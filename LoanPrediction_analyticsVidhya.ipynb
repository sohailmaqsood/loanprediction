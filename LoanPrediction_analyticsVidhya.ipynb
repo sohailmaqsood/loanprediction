{
  "nbformat": 4,
  "nbformat_minor": 0,
  "metadata": {
    "colab": {
      "name": "LoanPrediction_analyticsVidhya.ipynb",
      "provenance": [],
      "collapsed_sections": [],
      "toc_visible": true
    },
    "kernelspec": {
      "name": "python3",
      "display_name": "Python 3"
    },
    "language_info": {
      "name": "python"
    }
  },
  "cells": [
    {
      "cell_type": "code",
      "metadata": {
        "id": "aWKfesPuUDY2"
      },
      "source": [
        "import pandas as pd\n",
        "import numpy as np\n",
        "import seaborn as sns\n",
        "import matplotlib.pyplot as plt\n",
        "import warnings\n",
        "warnings.filterwarnings(\"ignore\")"
      ],
      "execution_count": null,
      "outputs": []
    },
    {
      "cell_type": "code",
      "metadata": {
        "id": "z0K0ZjWNUKkX"
      },
      "source": [
        "test = pd.read_csv('test.csv')\n",
        "train = pd.read_csv('train.csv')\n",
        "train_original = train.copy()\n",
        "test_original = test.copy()"
      ],
      "execution_count": null,
      "outputs": []
    },
    {
      "cell_type": "code",
      "metadata": {
        "colab": {
          "base_uri": "https://localhost:8080/"
        },
        "id": "3PFdAgEHn85K",
        "outputId": "6a95fdd2-0ea8-471a-ffc8-a3ea9a79969c"
      },
      "source": [
        "train.columns #checking the available columns"
      ],
      "execution_count": null,
      "outputs": [
        {
          "output_type": "execute_result",
          "data": {
            "text/plain": [
              "Index(['Loan_ID', 'Gender', 'Married', 'Dependents', 'Education',\n",
              "       'Self_Employed', 'ApplicantIncome', 'CoapplicantIncome', 'LoanAmount',\n",
              "       'Loan_Amount_Term', 'Credit_History', 'Property_Area', 'Loan_Status'],\n",
              "      dtype='object')"
            ]
          },
          "metadata": {
            "tags": []
          },
          "execution_count": 3
        }
      ]
    },
    {
      "cell_type": "code",
      "metadata": {
        "colab": {
          "base_uri": "https://localhost:8080/"
        },
        "id": "-nL3AHu1psB4",
        "outputId": "1aceec16-ad7c-4af6-b71c-8feeac464a5e"
      },
      "source": [
        "train.dtypes #checking the data type of each column"
      ],
      "execution_count": null,
      "outputs": [
        {
          "output_type": "execute_result",
          "data": {
            "text/plain": [
              "Loan_ID               object\n",
              "Gender                object\n",
              "Married               object\n",
              "Dependents            object\n",
              "Education             object\n",
              "Self_Employed         object\n",
              "ApplicantIncome        int64\n",
              "CoapplicantIncome    float64\n",
              "LoanAmount           float64\n",
              "Loan_Amount_Term     float64\n",
              "Credit_History       float64\n",
              "Property_Area         object\n",
              "Loan_Status           object\n",
              "dtype: object"
            ]
          },
          "metadata": {
            "tags": []
          },
          "execution_count": 4
        }
      ]
    },
    {
      "cell_type": "code",
      "metadata": {
        "colab": {
          "base_uri": "https://localhost:8080/"
        },
        "id": "1FIOZlKap62w",
        "outputId": "7bc7f03e-119d-4ed8-c23f-29473a2f5723"
      },
      "source": [
        "train.shape #checking the shape of dataframe"
      ],
      "execution_count": null,
      "outputs": [
        {
          "output_type": "execute_result",
          "data": {
            "text/plain": [
              "(614, 13)"
            ]
          },
          "metadata": {
            "tags": []
          },
          "execution_count": 5
        }
      ]
    },
    {
      "cell_type": "code",
      "metadata": {
        "colab": {
          "base_uri": "https://localhost:8080/"
        },
        "id": "wGaj7tpVqKFQ",
        "outputId": "77047a4c-6fe1-4d7f-cc4f-87f1b1ee37e4"
      },
      "source": [
        "train['Loan_Status'].value_counts() #give the distribution of values"
      ],
      "execution_count": null,
      "outputs": [
        {
          "output_type": "execute_result",
          "data": {
            "text/plain": [
              "Y    422\n",
              "N    192\n",
              "Name: Loan_Status, dtype: int64"
            ]
          },
          "metadata": {
            "tags": []
          },
          "execution_count": 6
        }
      ]
    },
    {
      "cell_type": "code",
      "metadata": {
        "colab": {
          "base_uri": "https://localhost:8080/"
        },
        "id": "_qusp4PiqbnD",
        "outputId": "aadedc80-4181-4cb1-f296-8ddcc8900631"
      },
      "source": [
        "train['Loan_Status'].value_counts(normalize=True) #setting normalize true give proportions instead of numbers"
      ],
      "execution_count": null,
      "outputs": [
        {
          "output_type": "execute_result",
          "data": {
            "text/plain": [
              "Y    0.687296\n",
              "N    0.312704\n",
              "Name: Loan_Status, dtype: float64"
            ]
          },
          "metadata": {
            "tags": []
          },
          "execution_count": 7
        }
      ]
    },
    {
      "cell_type": "code",
      "metadata": {
        "colab": {
          "base_uri": "https://localhost:8080/",
          "height": 280
        },
        "id": "y6yuIjl_qxTW",
        "outputId": "2ded3b83-fa5a-4d91-d42a-72a84f7e01ba"
      },
      "source": [
        "train['Loan_Status'].value_counts().plot.bar()"
      ],
      "execution_count": null,
      "outputs": [
        {
          "output_type": "execute_result",
          "data": {
            "text/plain": [
              "<matplotlib.axes._subplots.AxesSubplot at 0x7ff64a3596d0>"
            ]
          },
          "metadata": {
            "tags": []
          },
          "execution_count": 8
        },
        {
          "output_type": "display_data",
          "data": {
            "image/png": "[encoded data removed]",
            "text/plain": [
              "<Figure size 432x288 with 1 Axes>"
            ]
          },
          "metadata": {
            "tags": [],
            "needs_background": "light"
          }
        }
      ]
    },
    {
      "cell_type": "code",
      "metadata": {
        "colab": {
          "base_uri": "https://localhost:8080/"
        },
        "id": "zQX_e9MHrVaQ",
        "outputId": "5f937b86-cdef-49df-8b7c-060739054aa1"
      },
      "source": [
        "train.isnull().sum() #gives the number of missing values in each columns"
      ],
      "execution_count": null,
      "outputs": [
        {
          "output_type": "execute_result",
          "data": {
            "text/plain": [
              "Loan_ID               0\n",
              "Gender               13\n",
              "Married               3\n",
              "Dependents           15\n",
              "Education             0\n",
              "Self_Employed        32\n",
              "ApplicantIncome       0\n",
              "CoapplicantIncome     0\n",
              "LoanAmount           22\n",
              "Loan_Amount_Term     14\n",
              "Credit_History       50\n",
              "Property_Area         0\n",
              "Loan_Status           0\n",
              "dtype: int64"
            ]
          },
          "metadata": {
            "tags": []
          },
          "execution_count": 9
        }
      ]
    },
    {
      "cell_type": "code",
      "metadata": {
        "colab": {
          "base_uri": "https://localhost:8080/",
          "height": 550
        },
        "id": "qeXpgYNoruJg",
        "outputId": "2c1c28c0-55a6-430f-f84d-2c877f1ac974"
      },
      "source": [
        "#Categorical Variable\n",
        "plt.figure(1)\n",
        "plt.subplot(221)\n",
        "train['Gender'].value_counts(normalize=True).plot.bar(figsize=(20,10),title='Gender')\n",
        "plt.subplot(222)\n",
        "train['Married'].value_counts(normalize=True).plot.bar(figsize=(20,10),title='Married')\n",
        "plt.subplot(223)\n",
        "train['Self_Employed'].value_counts(normalize=True).plot.bar(figsize=(20,10),title='Self_employed')\n",
        "plt.subplot(224)\n",
        "train['Credit_History'].value_counts(normalize=True).plot.bar(figsize=(20,10),title='Credit_History')"
      ],
      "execution_count": null,
      "outputs": [
        {
          "output_type": "execute_result",
          "data": {
            "text/plain": [
              "<matplotlib.axes._subplots.AxesSubplot at 0x7ff649ceb750>"
            ]
          },
          "metadata": {
            "tags": []
          },
          "execution_count": 10
        },
        {
          "output_type": "display_data",
          "data": {
            "image/png": "[encoded data removed]",
            "text/plain": [
              "<Figure size 1440x720 with 4 Axes>"
            ]
          },
          "metadata": {
            "tags": [],
            "needs_background": "light"
          }
        }
      ]
    },
    {
      "cell_type": "markdown",
      "metadata": {
        "id": "x8qe9SgKCDrp"
      },
      "source": [
        "\n",
        "\n",
        "*   80 percent are Males\n",
        "*   65 percent are Married\n",
        "*   85 percent are Not Self Employed\n",
        "*   90 percent have paid their loan back\n",
        "\n",
        "\n",
        "\n"
      ]
    },
    {
      "cell_type": "code",
      "metadata": {
        "colab": {
          "base_uri": "https://localhost:8080/",
          "height": 447
        },
        "id": "i20xFu1GCDPo",
        "outputId": "fbe9a42a-4692-4116-e840-83ef6ce7cb6f"
      },
      "source": [
        "#Ordinal Variable\n",
        "plt.figure(1)\n",
        "plt.subplot(131)\n",
        "train['Dependents'].value_counts(normalize=True).plot.bar(figsize=(24,6),title='Dependents')\n",
        "plt.subplot(132)\n",
        "train['Education'].value_counts(normalize=True).plot.bar(title='Education')\n",
        "plt.show()"
      ],
      "execution_count": null,
      "outputs": [
        {
          "output_type": "display_data",
          "data": {
            "image/png": "[encoded data removed]",
            "text/plain": [
              "<Figure size 1728x432 with 2 Axes>"
            ]
          },
          "metadata": {
            "tags": [],
            "needs_background": "light"
          }
        }
      ]
    },
    {
      "cell_type": "code",
      "metadata": {
        "colab": {
          "base_uri": "https://localhost:8080/",
          "height": 325
        },
        "id": "mkSRHFUhJYgE",
        "outputId": "86c5c865-f56a-4590-b67b-3f6862b99333"
      },
      "source": [
        "train['Property_Area'].value_counts(normalize=True).plot.bar(title='Property_Area')\n",
        "plt.show()"
      ],
      "execution_count": null,
      "outputs": [
        {
          "output_type": "display_data",
          "data": {
            "image/png": "[encoded data removed]",
            "text/plain": [
              "<Figure size 432x288 with 1 Axes>"
            ]
          },
          "metadata": {
            "tags": [],
            "needs_background": "light"
          }
        }
      ]
    },
    {
      "cell_type": "code",
      "metadata": {
        "colab": {
          "base_uri": "https://localhost:8080/",
          "height": 334
        },
        "id": "XLNSPEIOIuD-",
        "outputId": "0c2fd585-7677-49b1-ce4a-80d684739c14"
      },
      "source": [
        "plt.figure(1)\n",
        "plt.subplot(121)\n",
        "sns.distplot(train['ApplicantIncome'])\n",
        "plt.subplot(122)\n",
        "train['ApplicantIncome'].plot.box(figsize=(16,5))\n",
        "plt.show()"
      ],
      "execution_count": null,
      "outputs": [
        {
          "output_type": "display_data",
          "data": {
            "image/png": "[encoded data removed]",
            "text/plain": [
              "<Figure size 1152x360 with 2 Axes>"
            ]
          },
          "metadata": {
            "tags": [],
            "needs_background": "light"
          }
        }
      ]
    },
    {
      "cell_type": "markdown",
      "metadata": {
        "id": "lySjV39OMAxm"
      },
      "source": [
        "**this shows how income is sweked to left hand side, showing most of income is on lower level**\n",
        "\n",
        "**Box plot shows the huge number of outliers that are present in the data**"
      ]
    },
    {
      "cell_type": "code",
      "metadata": {
        "colab": {
          "base_uri": "https://localhost:8080/",
          "height": 311
        },
        "id": "kkguEXWQLhNH",
        "outputId": "a61c6913-419c-46d3-814c-1915f7a7f916"
      },
      "source": [
        "train.boxplot(column='ApplicantIncome',by='Education')\n",
        "plt.suptitle(\"\")"
      ],
      "execution_count": null,
      "outputs": [
        {
          "output_type": "execute_result",
          "data": {
            "text/plain": [
              "Text(0.5, 0.98, '')"
            ]
          },
          "metadata": {
            "tags": []
          },
          "execution_count": 14
        },
        {
          "output_type": "display_data",
          "data": {
            "image/png": "[encoded data removed]",
            "text/plain": [
              "<Figure size 432x288 with 1 Axes>"
            ]
          },
          "metadata": {
            "tags": [],
            "needs_background": "light"
          }
        }
      ]
    },
    {
      "cell_type": "markdown",
      "metadata": {
        "id": "WEF6et94MaDG"
      },
      "source": [
        "***Above Box plot shows the presence of outliers for Graduates***"
      ]
    },
    {
      "cell_type": "code",
      "metadata": {
        "colab": {
          "base_uri": "https://localhost:8080/",
          "height": 351
        },
        "id": "lFApAecVMjqu",
        "outputId": "0aad455d-6f67-44c0-b366-7fdb5f6496c3"
      },
      "source": [
        "plt.figure(1)\n",
        "plt.subplot(121)\n",
        "sns.distplot(train['CoapplicantIncome'])\n",
        "plt.subplot(122)\n",
        "train['CoapplicantIncome'].plot.box(figsize=(16,5))"
      ],
      "execution_count": null,
      "outputs": [
        {
          "output_type": "execute_result",
          "data": {
            "text/plain": [
              "<matplotlib.axes._subplots.AxesSubplot at 0x7ff64797b850>"
            ]
          },
          "metadata": {
            "tags": []
          },
          "execution_count": 15
        },
        {
          "output_type": "display_data",
          "data": {
            "image/png": "[encoded data removed]",
            "text/plain": [
              "<Figure size 1152x360 with 2 Axes>"
            ]
          },
          "metadata": {
            "tags": [],
            "needs_background": "light"
          }
        }
      ]
    },
    {
      "cell_type": "markdown",
      "metadata": {
        "id": "nBHJTuYlNeiC"
      },
      "source": [
        "***Above distribution chart shows, how the income of co applicants is majorly less than 5000 and close to zero***\n",
        "\n",
        "***Similarly box plot shows present of outliers in the data***"
      ]
    },
    {
      "cell_type": "code",
      "metadata": {
        "colab": {
          "base_uri": "https://localhost:8080/",
          "height": 334
        },
        "id": "2PvfQdewNKeT",
        "outputId": "8fcc5ac1-fe91-476f-a21e-9c441417a762"
      },
      "source": [
        "plt.figure(1)\n",
        "plt.subplot(121)\n",
        "sns.distplot(train['LoanAmount'])\n",
        "plt.subplot(122)\n",
        "train['LoanAmount'].plot.box(figsize=(16,5))\n",
        "plt.show()"
      ],
      "execution_count": null,
      "outputs": [
        {
          "output_type": "display_data",
          "data": {
            "image/png": "[encoded data removed]",
            "text/plain": [
              "<Figure size 1152x360 with 2 Axes>"
            ]
          },
          "metadata": {
            "tags": [],
            "needs_background": "light"
          }
        }
      ]
    },
    {
      "cell_type": "markdown",
      "metadata": {
        "id": "xa-NfzGvSaFl"
      },
      "source": [
        "**Hypothesis that were discussed earlier**\n",
        "\n",
        "1.   People with higher income should get loan\n",
        "2.   People with good repay history should get loan\n",
        "3.   Lesser Loan amount should be easily approved\n",
        "2.   Lower the EMI, higher chances of approval\n",
        "\n",
        "\n",
        "\n"
      ]
    },
    {
      "cell_type": "code",
      "metadata": {
        "colab": {
          "base_uri": "https://localhost:8080/"
        },
        "id": "0M67Ct0_SpX_",
        "outputId": "34b170d8-88af-4aa5-89b1-7e77a8696feb"
      },
      "source": [
        "train.columns"
      ],
      "execution_count": null,
      "outputs": [
        {
          "output_type": "execute_result",
          "data": {
            "text/plain": [
              "Index(['Loan_ID', 'Gender', 'Married', 'Dependents', 'Education',\n",
              "       'Self_Employed', 'ApplicantIncome', 'CoapplicantIncome', 'LoanAmount',\n",
              "       'Loan_Amount_Term', 'Credit_History', 'Property_Area', 'Loan_Status'],\n",
              "      dtype='object')"
            ]
          },
          "metadata": {
            "tags": []
          },
          "execution_count": 17
        }
      ]
    },
    {
      "cell_type": "code",
      "metadata": {
        "colab": {
          "base_uri": "https://localhost:8080/",
          "height": 295
        },
        "id": "Twz6VFKfS72V",
        "outputId": "f367abbe-f47c-49be-d7bf-1208a214c623"
      },
      "source": [
        "#Cross tab to see the loan status by gender\n",
        "gender = pd.crosstab(train['Loan_Status'],train['Gender'])\n",
        "gender.div(gender.sum(1).astype(float),axis=0).plot.bar(stacked='True',figsize=(4,4))"
      ],
      "execution_count": null,
      "outputs": [
        {
          "output_type": "execute_result",
          "data": {
            "text/plain": [
              "<matplotlib.axes._subplots.AxesSubplot at 0x7ff647696650>"
            ]
          },
          "metadata": {
            "tags": []
          },
          "execution_count": 18
        },
        {
          "output_type": "display_data",
          "data": {
            "image/png": "[encoded data removed]",
            "text/plain": [
              "<Figure size 288x288 with 1 Axes>"
            ]
          },
          "metadata": {
            "tags": [],
            "needs_background": "light"
          }
        }
      ]
    },
    {
      "cell_type": "markdown",
      "metadata": {
        "id": "2Zw6UT1Rm6yS"
      },
      "source": [
        "***This shows that Loan status is independent of gender***"
      ]
    },
    {
      "cell_type": "code",
      "metadata": {
        "colab": {
          "base_uri": "https://localhost:8080/",
          "height": 1000
        },
        "id": "kccFvuRDcEqU",
        "outputId": "37f5bd8c-6f4a-498f-a515-71264188d4a8"
      },
      "source": [
        "Married = pd.crosstab(train['Married'],train['Loan_Status'])\n",
        "Dependents = pd.crosstab(train['Dependents'],train['Loan_Status'])\n",
        "Education = pd.crosstab(train['Education'],train['Loan_Status'])\n",
        "Self_employed = pd.crosstab(train['Self_Employed'],train['Loan_Status'])\n",
        "\n",
        "Married.div(Married.sum(1).astype(float),axis=0).plot.bar(stacked='True',figsize=(4,4))\n",
        "plt.show()\n",
        "Dependents.div(Dependents.sum(1).astype(float),axis=0).plot.bar(stacked='True')\n",
        "plt.show()\n",
        "Education.div(Education.sum(1).astype(float),axis=0).plot.bar(stacked='True')\n",
        "plt.show()\n",
        "Self_employed.div(Self_employed.sum(1).astype(float),axis=0).plot.bar(stacked='True')\n",
        "plt.show()"
      ],
      "execution_count": null,
      "outputs": [
        {
          "output_type": "display_data",
          "data": {
            "image/png": "[encoded data removed]",
            "text/plain": [
              "<Figure size 288x288 with 1 Axes>"
            ]
          },
          "metadata": {
            "tags": [],
            "needs_background": "light"
          }
        },
        {
          "output_type": "display_data",
          "data": {
            "image/png": "[encoded data removed]",
            "text/plain": [
              "<Figure size 432x288 with 1 Axes>"
            ]
          },
          "metadata": {
            "tags": [],
            "needs_background": "light"
          }
        },
        {
          "output_type": "display_data",
          "data": {
            "image/png": "[encoded data removed]",
            "text/plain": [
              "<Figure size 432x288 with 1 Axes>"
            ]
          },
          "metadata": {
            "tags": [],
            "needs_background": "light"
          }
        },
        {
          "output_type": "display_data",
          "data": {
            "image/png": "[encoded data removed]",
            "text/plain": [
              "<Figure size 432x288 with 1 Axes>"
            ]
          },
          "metadata": {
            "tags": [],
            "needs_background": "light"
          }
        }
      ]
    },
    {
      "cell_type": "markdown",
      "metadata": {
        "id": "YJ2Ms_NZmJZi"
      },
      "source": [
        "***Married People has slighlty better chances of getting loan approved***"
      ]
    },
    {
      "cell_type": "code",
      "metadata": {
        "colab": {
          "base_uri": "https://localhost:8080/"
        },
        "id": "_zavSn4kmPrL",
        "outputId": "d00561f9-981b-4e35-c367-0059e6eea9d9"
      },
      "source": [
        "train.columns"
      ],
      "execution_count": null,
      "outputs": [
        {
          "output_type": "execute_result",
          "data": {
            "text/plain": [
              "Index(['Loan_ID', 'Gender', 'Married', 'Dependents', 'Education',\n",
              "       'Self_Employed', 'ApplicantIncome', 'CoapplicantIncome', 'LoanAmount',\n",
              "       'Loan_Amount_Term', 'Credit_History', 'Property_Area', 'Loan_Status'],\n",
              "      dtype='object')"
            ]
          },
          "metadata": {
            "tags": []
          },
          "execution_count": 20
        }
      ]
    },
    {
      "cell_type": "code",
      "metadata": {
        "colab": {
          "base_uri": "https://localhost:8080/",
          "height": 610
        },
        "id": "r3DacalMmUne",
        "outputId": "4403fef3-cb2f-44b0-895d-9f265870c206"
      },
      "source": [
        "Credit_History = pd.crosstab(train['Credit_History'],train['Loan_Status'])\n",
        "Property_Area = pd.crosstab(train['Property_Area'],train['Loan_Status'])\n",
        "\n",
        "Credit_History.div(Credit_History.sum(1).astype(float),axis=0).plot(kind='bar',stacked=True,figsize=(4,4))\n",
        "Property_Area.div(Property_Area.sum(1).astype(float),axis=0).plot(kind='bar',stacked=True,figsize=(4,4))"
      ],
      "execution_count": null,
      "outputs": [
        {
          "output_type": "execute_result",
          "data": {
            "text/plain": [
              "<matplotlib.axes._subplots.AxesSubplot at 0x7ff647699210>"
            ]
          },
          "metadata": {
            "tags": []
          },
          "execution_count": 21
        },
        {
          "output_type": "display_data",
          "data": {
            "image/png": "[encoded data removed]",
            "text/plain": [
              "<Figure size 288x288 with 1 Axes>"
            ]
          },
          "metadata": {
            "tags": [],
            "needs_background": "light"
          }
        },
        {
          "output_type": "display_data",
          "data": {
            "image/png": "[encoded data removed]",
            "text/plain": [
              "<Figure size 288x288 with 1 Axes>"
            ]
          },
          "metadata": {
            "tags": [],
            "needs_background": "light"
          }
        }
      ]
    },
    {
      "cell_type": "markdown",
      "metadata": {
        "id": "yGLkj1DUpnvT"
      },
      "source": [
        "***Proportion of Single People getting Loan is higher*** \\\\n\n",
        "***People in Semi Urban has higher probability of getting loan***"
      ]
    },
    {
      "cell_type": "code",
      "metadata": {
        "colab": {
          "base_uri": "https://localhost:8080/",
          "height": 295
        },
        "id": "C_hLsS9spa2s",
        "outputId": "e115488b-e3fe-4b1e-e402-dcd92798c733"
      },
      "source": [
        "train.groupby('Loan_Status')['ApplicantIncome'].mean().plot.bar()"
      ],
      "execution_count": null,
      "outputs": [
        {
          "output_type": "execute_result",
          "data": {
            "text/plain": [
              "<matplotlib.axes._subplots.AxesSubplot at 0x7ff647a78210>"
            ]
          },
          "metadata": {
            "tags": []
          },
          "execution_count": 22
        },
        {
          "output_type": "display_data",
          "data": {
            "image/png": "[encoded data removed]",
            "text/plain": [
              "<Figure size 432x288 with 1 Axes>"
            ]
          },
          "metadata": {
            "tags": [],
            "needs_background": "light"
          }
        }
      ]
    },
    {
      "cell_type": "markdown",
      "metadata": {
        "id": "TckACK2HrJMV"
      },
      "source": [
        "**Mean doesn't shows any impact on the Loan Status**"
      ]
    },
    {
      "cell_type": "code",
      "metadata": {
        "colab": {
          "base_uri": "https://localhost:8080/"
        },
        "id": "cRT5O9D_qwl-",
        "outputId": "9b09a317-7368-4a25-b342-1332681bab2d"
      },
      "source": [
        "bins = [00,2500,4000,6000,81000]\n",
        "group = ['Low','Average','High','Very High']\n",
        "train['Income_bin'] = pd.cut(train['ApplicantIncome'],bins,labels=group)\n",
        "train['Income_bin']"
      ],
      "execution_count": null,
      "outputs": [
        {
          "output_type": "execute_result",
          "data": {
            "text/plain": [
              "0           High\n",
              "1           High\n",
              "2        Average\n",
              "3        Average\n",
              "4           High\n",
              "         ...    \n",
              "609      Average\n",
              "610         High\n",
              "611    Very High\n",
              "612    Very High\n",
              "613         High\n",
              "Name: Income_bin, Length: 614, dtype: category\n",
              "Categories (4, object): ['Low' < 'Average' < 'High' < 'Very High']"
            ]
          },
          "metadata": {
            "tags": []
          },
          "execution_count": 23
        }
      ]
    },
    {
      "cell_type": "code",
      "metadata": {
        "colab": {
          "base_uri": "https://localhost:8080/",
          "height": 336
        },
        "id": "TFkuQaApsiHP",
        "outputId": "3f641e19-0125-4331-beec-9d54983aed5b"
      },
      "source": [
        "Income_bin = pd.crosstab(train['Income_bin'],train['Loan_Status'])\n",
        "Income_bin.div(Income_bin.sum(1).astype(float),axis = 0).plot.bar(stacked='True')"
      ],
      "execution_count": null,
      "outputs": [
        {
          "output_type": "execute_result",
          "data": {
            "text/plain": [
              "<matplotlib.axes._subplots.AxesSubplot at 0x7ff649b92c90>"
            ]
          },
          "metadata": {
            "tags": []
          },
          "execution_count": 24
        },
        {
          "output_type": "display_data",
          "data": {
            "image/png": "[encoded data removed]",
            "text/plain": [
              "<Figure size 432x288 with 1 Axes>"
            ]
          },
          "metadata": {
            "tags": [],
            "needs_background": "light"
          }
        }
      ]
    },
    {
      "cell_type": "markdown",
      "metadata": {
        "id": "7t8wYqGVtohO"
      },
      "source": [
        "**This proves that Applicant's income does not have effect on Loan approval,which is contradictory to our hypothesis**"
      ]
    },
    {
      "cell_type": "code",
      "metadata": {
        "id": "VtWjC5ZxtfZK"
      },
      "source": [
        "bins = [0,1000,3000,42000]\n",
        "group = ['Low','Average','High']\n",
        "\n",
        "train['Coapplicant_bin'] = pd.cut(train['CoapplicantIncome'],bins,labels = group)"
      ],
      "execution_count": null,
      "outputs": []
    },
    {
      "cell_type": "code",
      "metadata": {
        "colab": {
          "base_uri": "https://localhost:8080/",
          "height": 328
        },
        "id": "-W4_puSSuUQy",
        "outputId": "68c0ce1f-f204-4178-bfa2-7ba2663dfeda"
      },
      "source": [
        "Coapplicant_bin = pd.crosstab(train['Coapplicant_bin'],train['Loan_Status'])\n",
        "Coapplicant_bin.div(Coapplicant_bin.sum(1).astype(float),axis=0).plot.bar(stacked = 'True')"
      ],
      "execution_count": null,
      "outputs": [
        {
          "output_type": "execute_result",
          "data": {
            "text/plain": [
              "<matplotlib.axes._subplots.AxesSubplot at 0x7ff64a23a510>"
            ]
          },
          "metadata": {
            "tags": []
          },
          "execution_count": 26
        },
        {
          "output_type": "display_data",
          "data": {
            "image/png": "[encoded data removed]",
            "text/plain": [
              "<Figure size 432x288 with 1 Axes>"
            ]
          },
          "metadata": {
            "tags": [],
            "needs_background": "light"
          }
        }
      ]
    },
    {
      "cell_type": "markdown",
      "metadata": {
        "id": "NQZZQFsQwKZk"
      },
      "source": [
        "**From Above Analysis, it looks as if people with Low applicant income, have higher chances of getting Loan**"
      ]
    },
    {
      "cell_type": "markdown",
      "metadata": {
        "id": "bV-cljfjwSjF"
      },
      "source": [
        "*However that doesn't looks correct*"
      ]
    },
    {
      "cell_type": "code",
      "metadata": {
        "colab": {
          "base_uri": "https://localhost:8080/"
        },
        "id": "5jRB5bXXuXNX",
        "outputId": "a302a8f8-41b8-44ac-956f-229b22b49d18"
      },
      "source": [
        "train['CoapplicantIncome'].value_counts().sort_values(ascending=False)"
      ],
      "execution_count": null,
      "outputs": [
        {
          "output_type": "execute_result",
          "data": {
            "text/plain": [
              "0.0       273\n",
              "1666.0      5\n",
              "2083.0      5\n",
              "2500.0      5\n",
              "1625.0      3\n",
              "         ... \n",
              "6666.0      1\n",
              "2188.0      1\n",
              "1915.0      1\n",
              "1811.0      1\n",
              "2100.0      1\n",
              "Name: CoapplicantIncome, Length: 287, dtype: int64"
            ]
          },
          "metadata": {
            "tags": []
          },
          "execution_count": 27
        }
      ]
    },
    {
      "cell_type": "markdown",
      "metadata": {
        "id": "GmWiBUWF3AHm"
      },
      "source": [
        "***If you see out of 600 records, 273 records has zero Coapplicant Income**"
      ]
    },
    {
      "cell_type": "code",
      "metadata": {
        "colab": {
          "base_uri": "https://localhost:8080/",
          "height": 336
        },
        "id": "yhgIY6iQ2yQb",
        "outputId": "d552cd8e-805e-47c3-dff1-d30c777cb6c4"
      },
      "source": [
        "train['total_income'] = train['CoapplicantIncome'] + train['ApplicantIncome']\n",
        "\n",
        "bins = [0,2500,4000,6000,81000]\n",
        "labels = ['Low','Average','High','Very High']\n",
        "\n",
        "train['total_income_bin'] = pd.cut(train['total_income'],bins,labels = labels)\n",
        "\n",
        "total_income_bin = pd.crosstab(train['total_income_bin'],train['Loan_Status'])\n",
        "total_income_bin.div(total_income_bin.sum(1).astype(float),axis=0).plot.bar(stacked=True)                               "
      ],
      "execution_count": null,
      "outputs": [
        {
          "output_type": "execute_result",
          "data": {
            "text/plain": [
              "<matplotlib.axes._subplots.AxesSubplot at 0x7ff6477d7190>"
            ]
          },
          "metadata": {
            "tags": []
          },
          "execution_count": 28
        },
        {
          "output_type": "display_data",
          "data": {
            "image/png": "[encoded data removed]",
            "text/plain": [
              "<Figure size 432x288 with 1 Axes>"
            ]
          },
          "metadata": {
            "tags": [],
            "needs_background": "light"
          }
        }
      ]
    },
    {
      "cell_type": "markdown",
      "metadata": {
        "id": "bd1ntxXm7iw-"
      },
      "source": [
        "***People with Low total combined income, has lesser loan acceptance rate***"
      ]
    },
    {
      "cell_type": "code",
      "metadata": {
        "id": "f4FBZGv26-7x",
        "colab": {
          "base_uri": "https://localhost:8080/",
          "height": 327
        },
        "outputId": "25b9648e-9a70-4e8f-8fd0-9c5b5d5b8b75"
      },
      "source": [
        "bins = [0,100,200,700]\n",
        "group = ['Low','Average','High']\n",
        "train['LoanAmountBin'] = pd.cut(train['LoanAmount'],bins,labels=group)\n",
        "\n",
        "LoanAmountBin = pd.crosstab(train['LoanAmountBin'],train['Loan_Status'])\n",
        "LoanAmountBin.div(LoanAmountBin.sum(1).astype(float),axis=0).plot.bar(stacked='True')"
      ],
      "execution_count": null,
      "outputs": [
        {
          "output_type": "execute_result",
          "data": {
            "text/plain": [
              "<matplotlib.axes._subplots.AxesSubplot at 0x7ff647740c50>"
            ]
          },
          "metadata": {
            "tags": []
          },
          "execution_count": 29
        },
        {
          "output_type": "display_data",
          "data": {
            "image/png": "[encoded data removed]",
            "text/plain": [
              "<Figure size 432x288 with 1 Axes>"
            ]
          },
          "metadata": {
            "tags": [],
            "needs_background": "light"
          }
        }
      ]
    },
    {
      "cell_type": "markdown",
      "metadata": {
        "id": "rfCV_KYMgizs"
      },
      "source": [
        "***Low Loan Amount tends to get easier approval***"
      ]
    },
    {
      "cell_type": "code",
      "metadata": {
        "colab": {
          "base_uri": "https://localhost:8080/"
        },
        "id": "wof3YaVcgd6B",
        "outputId": "3143f084-2cfa-4015-c569-de6a00fd3e1d"
      },
      "source": [
        "train.columns"
      ],
      "execution_count": null,
      "outputs": [
        {
          "output_type": "execute_result",
          "data": {
            "text/plain": [
              "Index(['Loan_ID', 'Gender', 'Married', 'Dependents', 'Education',\n",
              "       'Self_Employed', 'ApplicantIncome', 'CoapplicantIncome', 'LoanAmount',\n",
              "       'Loan_Amount_Term', 'Credit_History', 'Property_Area', 'Loan_Status',\n",
              "       'Income_bin', 'Coapplicant_bin', 'total_income', 'total_income_bin',\n",
              "       'LoanAmountBin'],\n",
              "      dtype='object')"
            ]
          },
          "metadata": {
            "tags": []
          },
          "execution_count": 30
        }
      ]
    },
    {
      "cell_type": "code",
      "metadata": {
        "id": "356VNdMJhG7c"
      },
      "source": [
        "train = train.drop(['Income_bin','Coapplicant_bin','total_income_bin','LoanAmountBin'],axis=1)"
      ],
      "execution_count": null,
      "outputs": []
    },
    {
      "cell_type": "code",
      "metadata": {
        "id": "1sV72XvHjzJ8"
      },
      "source": [
        "train = train.drop(['total_income'],axis=1)"
      ],
      "execution_count": null,
      "outputs": []
    },
    {
      "cell_type": "code",
      "metadata": {
        "id": "Gp-835mFhdc1"
      },
      "source": [
        "train['Dependents'].replace('3+',3,inplace=True)\n",
        "test['Dependents'].replace('3+',3,inplace=True)\n",
        "train['Loan_Status'].replace('Y',1,inplace=True)\n",
        "train['Loan_Status'].replace('N',0,inplace=True)"
      ],
      "execution_count": null,
      "outputs": []
    },
    {
      "cell_type": "code",
      "metadata": {
        "colab": {
          "base_uri": "https://localhost:8080/",
          "height": 482
        },
        "id": "MZOO0jifioP2",
        "outputId": "64689b00-eb13-473c-a500-f5d9555d76b3"
      },
      "source": [
        "matrix = train.corr()\n",
        "ax = plt.subplots(figsize=(9,6))\n",
        "sns.heatmap(matrix,vmax=.8,square=True,cmap=\"BuPu\")"
      ],
      "execution_count": null,
      "outputs": [
        {
          "output_type": "execute_result",
          "data": {
            "text/plain": [
              "<matplotlib.axes._subplots.AxesSubplot at 0x7ff6474f3590>"
            ]
          },
          "metadata": {
            "tags": []
          },
          "execution_count": 34
        },
        {
          "output_type": "display_data",
          "data": {
            "image/png": "[encoded data removed]",
            "text/plain": [
              "<Figure size 648x432 with 2 Axes>"
            ]
          },
          "metadata": {
            "tags": [],
            "needs_background": "light"
          }
        }
      ]
    },
    {
      "cell_type": "markdown",
      "metadata": {
        "id": "Zc0lsoCAkHKH"
      },
      "source": [
        "***Loan Amount and Applicant Income are corelated || Loan Status and Credit history are corelated***"
      ]
    },
    {
      "cell_type": "code",
      "metadata": {
        "colab": {
          "base_uri": "https://localhost:8080/"
        },
        "id": "xLSIC7n0jFmq",
        "outputId": "4629cdb4-515a-4dc4-84f6-2c5b845ade9f"
      },
      "source": [
        "train.isna().sum()"
      ],
      "execution_count": null,
      "outputs": [
        {
          "output_type": "execute_result",
          "data": {
            "text/plain": [
              "Loan_ID               0\n",
              "Gender               13\n",
              "Married               3\n",
              "Dependents           15\n",
              "Education             0\n",
              "Self_Employed        32\n",
              "ApplicantIncome       0\n",
              "CoapplicantIncome     0\n",
              "LoanAmount           22\n",
              "Loan_Amount_Term     14\n",
              "Credit_History       50\n",
              "Property_Area         0\n",
              "Loan_Status           0\n",
              "dtype: int64"
            ]
          },
          "metadata": {
            "tags": []
          },
          "execution_count": 35
        }
      ]
    },
    {
      "cell_type": "code",
      "metadata": {
        "id": "BaJvqppwpPW8"
      },
      "source": [
        "#since the number of values in Gender is very lesser,\n",
        "#plus the effect of gender on loan status is not much, we can fill it with Mode\n",
        "\n",
        "train['Gender'].fillna(train['Gender'].mode()[0],inplace=True)"
      ],
      "execution_count": null,
      "outputs": []
    },
    {
      "cell_type": "code",
      "metadata": {
        "id": "dT1GL8B4xtOS"
      },
      "source": [
        "#similary fo married, dependents, self_employed, and credit_history\n",
        "\n",
        "train['Married'].fillna(train['Married'].mode()[0],inplace=True)\n",
        "train['Dependents'].fillna(train['Dependents'].mode()[0],inplace=True)\n",
        "train['Self_Employed'].fillna(train['Self_Employed'].mode()[0],inplace=True)\n",
        "train['Credit_History'].fillna(train['Credit_History'].mode()[0],inplace=True)"
      ],
      "execution_count": null,
      "outputs": []
    },
    {
      "cell_type": "code",
      "metadata": {
        "id": "JiPbCRpq9FXD"
      },
      "source": [
        "train['LoanAmount'].fillna(train['LoanAmount'].median(),inplace=True)"
      ],
      "execution_count": null,
      "outputs": []
    },
    {
      "cell_type": "code",
      "metadata": {
        "id": "QBlPX4sZ9kmD"
      },
      "source": [
        "train['Loan_Amount_Term'].fillna(train['Loan_Amount_Term'].mode()[0],inplace=True)"
      ],
      "execution_count": null,
      "outputs": []
    },
    {
      "cell_type": "code",
      "metadata": {
        "colab": {
          "base_uri": "https://localhost:8080/"
        },
        "id": "T0eXRY3O92CM",
        "outputId": "513343e6-a4f2-4ecf-8d06-7567cf338869"
      },
      "source": [
        "train.isna().sum()"
      ],
      "execution_count": null,
      "outputs": [
        {
          "output_type": "execute_result",
          "data": {
            "text/plain": [
              "Loan_ID              0\n",
              "Gender               0\n",
              "Married              0\n",
              "Dependents           0\n",
              "Education            0\n",
              "Self_Employed        0\n",
              "ApplicantIncome      0\n",
              "CoapplicantIncome    0\n",
              "LoanAmount           0\n",
              "Loan_Amount_Term     0\n",
              "Credit_History       0\n",
              "Property_Area        0\n",
              "Loan_Status          0\n",
              "dtype: int64"
            ]
          },
          "metadata": {
            "tags": []
          },
          "execution_count": 40
        }
      ]
    },
    {
      "cell_type": "code",
      "metadata": {
        "colab": {
          "base_uri": "https://localhost:8080/"
        },
        "id": "nGMmi_K_97XB",
        "outputId": "c339b889-6dd6-4bae-8d84-426806073904"
      },
      "source": [
        "test.isna().sum()"
      ],
      "execution_count": null,
      "outputs": [
        {
          "output_type": "execute_result",
          "data": {
            "text/plain": [
              "Loan_ID               0\n",
              "Gender               11\n",
              "Married               0\n",
              "Dependents           10\n",
              "Education             0\n",
              "Self_Employed        23\n",
              "ApplicantIncome       0\n",
              "CoapplicantIncome     0\n",
              "LoanAmount            5\n",
              "Loan_Amount_Term      6\n",
              "Credit_History       29\n",
              "Property_Area         0\n",
              "dtype: int64"
            ]
          },
          "metadata": {
            "tags": []
          },
          "execution_count": 41
        }
      ]
    },
    {
      "cell_type": "code",
      "metadata": {
        "id": "ib6Ln75RxF6K"
      },
      "source": [
        "#similary fo married, dependents, self_employed, and credit_history\n",
        "\n",
        "test['Married'].fillna(test['Married'].mode()[0],inplace=True)\n",
        "test['Dependents'].fillna(test['Dependents'].mode()[0],inplace=True)\n",
        "test['Self_Employed'].fillna(test['Self_Employed'].mode()[0],inplace=True)\n",
        "test['Credit_History'].fillna(test['Credit_History'].mode()[0],inplace=True)\n",
        "test['Gender'].fillna(test['Gender'].mode()[0],inplace=True)\n",
        "test['Loan_Amount_Term'].fillna(test['Loan_Amount_Term'].mode()[0],inplace=True)"
      ],
      "execution_count": null,
      "outputs": []
    },
    {
      "cell_type": "code",
      "metadata": {
        "colab": {
          "base_uri": "https://localhost:8080/"
        },
        "id": "Fzl1YEtfxOgb",
        "outputId": "bdba39c9-b045-432c-8ef4-c81871967981"
      },
      "source": [
        "test.isna().sum()"
      ],
      "execution_count": null,
      "outputs": [
        {
          "output_type": "execute_result",
          "data": {
            "text/plain": [
              "Loan_ID              0\n",
              "Gender               0\n",
              "Married              0\n",
              "Dependents           0\n",
              "Education            0\n",
              "Self_Employed        0\n",
              "ApplicantIncome      0\n",
              "CoapplicantIncome    0\n",
              "LoanAmount           5\n",
              "Loan_Amount_Term     0\n",
              "Credit_History       0\n",
              "Property_Area        0\n",
              "dtype: int64"
            ]
          },
          "metadata": {
            "tags": []
          },
          "execution_count": 43
        }
      ]
    },
    {
      "cell_type": "code",
      "metadata": {
        "id": "sAaVnuY5xbwc"
      },
      "source": [
        "test['LoanAmount'].fillna(test['LoanAmount'].median(),inplace=True)\n"
      ],
      "execution_count": null,
      "outputs": []
    },
    {
      "cell_type": "code",
      "metadata": {
        "colab": {
          "base_uri": "https://localhost:8080/"
        },
        "id": "Szxwt-zSxyEQ",
        "outputId": "ffb1f776-e4be-408f-a60d-ee8aefb8754b"
      },
      "source": [
        "test.isna().sum()"
      ],
      "execution_count": null,
      "outputs": [
        {
          "output_type": "execute_result",
          "data": {
            "text/plain": [
              "Loan_ID              0\n",
              "Gender               0\n",
              "Married              0\n",
              "Dependents           0\n",
              "Education            0\n",
              "Self_Employed        0\n",
              "ApplicantIncome      0\n",
              "CoapplicantIncome    0\n",
              "LoanAmount           0\n",
              "Loan_Amount_Term     0\n",
              "Credit_History       0\n",
              "Property_Area        0\n",
              "dtype: int64"
            ]
          },
          "metadata": {
            "tags": []
          },
          "execution_count": 45
        }
      ]
    },
    {
      "cell_type": "code",
      "metadata": {
        "colab": {
          "base_uri": "https://localhost:8080/"
        },
        "id": "miICuiRx1HJq",
        "outputId": "5b8eee34-a622-40cb-dc78-284edd8d1537"
      },
      "source": [
        "train.dtypes"
      ],
      "execution_count": null,
      "outputs": [
        {
          "output_type": "execute_result",
          "data": {
            "text/plain": [
              "Loan_ID               object\n",
              "Gender                object\n",
              "Married               object\n",
              "Dependents            object\n",
              "Education             object\n",
              "Self_Employed         object\n",
              "ApplicantIncome        int64\n",
              "CoapplicantIncome    float64\n",
              "LoanAmount           float64\n",
              "Loan_Amount_Term     float64\n",
              "Credit_History       float64\n",
              "Property_Area         object\n",
              "Loan_Status            int64\n",
              "dtype: object"
            ]
          },
          "metadata": {
            "tags": []
          },
          "execution_count": 46
        }
      ]
    },
    {
      "cell_type": "code",
      "metadata": {
        "colab": {
          "base_uri": "https://localhost:8080/",
          "height": 282
        },
        "id": "rS8aHMnj1azJ",
        "outputId": "11fb6924-00da-429a-8fcf-7f2e58b2fec0"
      },
      "source": [
        "train['LoanAmount'].hist()"
      ],
      "execution_count": null,
      "outputs": [
        {
          "output_type": "execute_result",
          "data": {
            "text/plain": [
              "<matplotlib.axes._subplots.AxesSubplot at 0x7ff64b561d50>"
            ]
          },
          "metadata": {
            "tags": []
          },
          "execution_count": 47
        },
        {
          "output_type": "display_data",
          "data": {
            "image/png": "[encoded data removed]",
            "text/plain": [
              "<Figure size 432x288 with 1 Axes>"
            ]
          },
          "metadata": {
            "tags": [],
            "needs_background": "light"
          }
        }
      ]
    },
    {
      "cell_type": "code",
      "metadata": {
        "colab": {
          "base_uri": "https://localhost:8080/",
          "height": 282
        },
        "id": "88al9ywV4Vzl",
        "outputId": "ecc1700a-dc31-467a-e2a0-08e4ceb14b1e"
      },
      "source": [
        "train['LoanAmount_log'] = np.log(train['LoanAmount'])\n",
        "train['LoanAmount_log'].hist(bins=20)"
      ],
      "execution_count": null,
      "outputs": [
        {
          "output_type": "execute_result",
          "data": {
            "text/plain": [
              "<matplotlib.axes._subplots.AxesSubplot at 0x7ff63eb6c510>"
            ]
          },
          "metadata": {
            "tags": []
          },
          "execution_count": 48
        },
        {
          "output_type": "display_data",
          "data": {
            "image/png": "[encoded data removed]",
            "text/plain": [
              "<Figure size 432x288 with 1 Axes>"
            ]
          },
          "metadata": {
            "tags": [],
            "needs_background": "light"
          }
        }
      ]
    },
    {
      "cell_type": "code",
      "metadata": {
        "colab": {
          "base_uri": "https://localhost:8080/",
          "height": 282
        },
        "id": "CNOifxxA8RNe",
        "outputId": "9bb738e4-ed86-4309-e2ef-7c3b1fb5d6c9"
      },
      "source": [
        "test['LoanAmount'].hist()"
      ],
      "execution_count": null,
      "outputs": [
        {
          "output_type": "execute_result",
          "data": {
            "text/plain": [
              "<matplotlib.axes._subplots.AxesSubplot at 0x7ff63eae49d0>"
            ]
          },
          "metadata": {
            "tags": []
          },
          "execution_count": 49
        },
        {
          "output_type": "display_data",
          "data": {
            "image/png": "[encoded data removed]",
            "text/plain": [
              "<Figure size 432x288 with 1 Axes>"
            ]
          },
          "metadata": {
            "tags": [],
            "needs_background": "light"
          }
        }
      ]
    },
    {
      "cell_type": "code",
      "metadata": {
        "id": "kWXNHaSw8WSn"
      },
      "source": [
        "test['LoanAmount_log'] = np.log(test['LoanAmount'])"
      ],
      "execution_count": null,
      "outputs": []
    },
    {
      "cell_type": "code",
      "metadata": {
        "id": "UoUNODnL90Tu",
        "colab": {
          "base_uri": "https://localhost:8080/",
          "height": 282
        },
        "outputId": "5d78a856-dab0-4fbc-9db2-9ba1d79f85ea"
      },
      "source": [
        "test['LoanAmount_log'].hist()"
      ],
      "execution_count": null,
      "outputs": [
        {
          "output_type": "execute_result",
          "data": {
            "text/plain": [
              "<matplotlib.axes._subplots.AxesSubplot at 0x7ff649ba0710>"
            ]
          },
          "metadata": {
            "tags": []
          },
          "execution_count": 51
        },
        {
          "output_type": "display_data",
          "data": {
            "image/png": "[encoded data removed]",
            "text/plain": [
              "<Figure size 432x288 with 1 Axes>"
            ]
          },
          "metadata": {
            "tags": [],
            "needs_background": "light"
          }
        }
      ]
    },
    {
      "cell_type": "markdown",
      "metadata": {
        "id": "_4kjZPwE4ZVW"
      },
      "source": [
        "\n",
        "\n",
        "*   Confusion matrix can be used to visualize the result of classification problem\n",
        "*   True Positive - Predicted positive and actually positive\n",
        "- True Negative - Predticted negative and actually negative\n",
        "*   False Positive - Predicted True, but actually false\n",
        "- False Negative - Predicted Negative but actually True\n",
        "\n",
        "\n",
        "\n"
      ]
    },
    {
      "cell_type": "markdown",
      "metadata": {
        "id": "aGunHmIK5aF-"
      },
      "source": [
        "- Accuracy of model - (TP + TN) / (TP + TN + FP + FN)\n",
        "- Precision - Correctness Achieved in true prediction ie TP out of predicted positive = (TP)/(TP + FP)\n",
        "\n",
        "- Recall (Sensitivity) - Actual Observations which are predicted correctly = TP/(TP + FN)\n",
        "\n",
        "- Specificity - MEasure of false class labeled correctly\n",
        "= (TN)/(TN + FP)"
      ]
    },
    {
      "cell_type": "markdown",
      "metadata": {
        "id": "ONkDMm5L61Ll"
      },
      "source": [
        "**Receiver Operating Characteristic (ROC)** - summarize model performance by evaluating trade off between true positive rate (sensitivity) and false positive rate (1 - specificity)\n",
        "-----------"
      ]
    },
    {
      "cell_type": "markdown",
      "metadata": {
        "id": "7S0NH1S77LF-"
      },
      "source": [
        "**Area Under Curve (AUC)** referred as index of accuracy or concordance Index is perfect performance metrics for ROC Curve. Higher the AOC, better prediction power of the model"
      ]
    },
    {
      "cell_type": "markdown",
      "metadata": {
        "id": "978k6cfs7vLz"
      },
      "source": [
        "AUC measure the ability of model to correctly classify true positives and true negatives"
      ]
    },
    {
      "cell_type": "code",
      "metadata": {
        "id": "58cUDiFU94MQ"
      },
      "source": [
        "train = train.drop('Loan_ID',axis=1)\n",
        "test = test.drop('Loan_ID',axis=1)"
      ],
      "execution_count": null,
      "outputs": []
    },
    {
      "cell_type": "code",
      "metadata": {
        "id": "YG1HtR8k8rSL"
      },
      "source": [
        "x = train.drop('Loan_Status',1)\n",
        "y = train.Loan_Status"
      ],
      "execution_count": null,
      "outputs": []
    },
    {
      "cell_type": "code",
      "metadata": {
        "colab": {
          "base_uri": "https://localhost:8080/"
        },
        "id": "03FXb2Qs9B8n",
        "outputId": "3873276a-7b93-4ca3-d087-911da690c0f3"
      },
      "source": [
        "x.dtypes"
      ],
      "execution_count": null,
      "outputs": [
        {
          "output_type": "execute_result",
          "data": {
            "text/plain": [
              "Gender                object\n",
              "Married               object\n",
              "Dependents            object\n",
              "Education             object\n",
              "Self_Employed         object\n",
              "ApplicantIncome        int64\n",
              "CoapplicantIncome    float64\n",
              "LoanAmount           float64\n",
              "Loan_Amount_Term     float64\n",
              "Credit_History       float64\n",
              "Property_Area         object\n",
              "LoanAmount_log       float64\n",
              "dtype: object"
            ]
          },
          "metadata": {
            "tags": []
          },
          "execution_count": 54
        }
      ]
    },
    {
      "cell_type": "code",
      "metadata": {
        "id": "fqGcCnRY9G3r"
      },
      "source": [
        "x = pd.get_dummies(x)\n",
        "train = pd.get_dummies(train)\n",
        "test = pd.get_dummies(test)"
      ],
      "execution_count": null,
      "outputs": []
    },
    {
      "cell_type": "code",
      "metadata": {
        "id": "DqqdGM6B9b1t"
      },
      "source": [
        "from sklearn.model_selection import train_test_split\n",
        "x_train,x_cv,y_train,y_cv = train_test_split(x,y,test_size = 0.3)"
      ],
      "execution_count": null,
      "outputs": []
    },
    {
      "cell_type": "code",
      "metadata": {
        "colab": {
          "base_uri": "https://localhost:8080/",
          "height": 456
        },
        "id": "5AAplXqZ9xqJ",
        "outputId": "ecb35199-5720-4139-d39d-e6ed6f4e170d"
      },
      "source": [
        "x_train"
      ],
      "execution_count": null,
      "outputs": [
        {
          "output_type": "execute_result",
          "data": {
            "text/html": [
              "<div>\n",
              "<style scoped>\n",
              "    .dataframe tbody tr th:only-of-type {\n",
              "        vertical-align: middle;\n",
              "    }\n",
              "\n",
              "    .dataframe tbody tr th {\n",
              "        vertical-align: top;\n",
              "    }\n",
              "\n",
              "    .dataframe thead th {\n",
              "        text-align: right;\n",
              "    }\n",
              "</style>\n",
              "<table border=\"1\" class=\"dataframe\">\n",
              "  <thead>\n",
              "    <tr style=\"text-align: right;\">\n",
              "      <th></th>\n",
              "      <th>ApplicantIncome</th>\n",
              "      <th>CoapplicantIncome</th>\n",
              "      <th>LoanAmount</th>\n",
              "      <th>Loan_Amount_Term</th>\n",
              "      <th>Credit_History</th>\n",
              "      <th>LoanAmount_log</th>\n",
              "      <th>Gender_Female</th>\n",
              "      <th>Gender_Male</th>\n",
              "      <th>Married_No</th>\n",
              "      <th>Married_Yes</th>\n",
              "      <th>Dependents_3</th>\n",
              "      <th>Dependents_0</th>\n",
              "      <th>Dependents_1</th>\n",
              "      <th>Dependents_2</th>\n",
              "      <th>Education_Graduate</th>\n",
              "      <th>Education_Not Graduate</th>\n",
              "      <th>Self_Employed_No</th>\n",
              "      <th>Self_Employed_Yes</th>\n",
              "      <th>Property_Area_Rural</th>\n",
              "      <th>Property_Area_Semiurban</th>\n",
              "      <th>Property_Area_Urban</th>\n",
              "    </tr>\n",
              "  </thead>\n",
              "  <tbody>\n",
              "    <tr>\n",
              "      <th>612</th>\n",
              "      <td>7583</td>\n",
              "      <td>0.0</td>\n",
              "      <td>187.0</td>\n",
              "      <td>360.0</td>\n",
              "      <td>1.0</td>\n",
              "      <td>5.231109</td>\n",
              "      <td>0</td>\n",
              "      <td>1</td>\n",
              "      <td>0</td>\n",
              "      <td>1</td>\n",
              "      <td>0</td>\n",
              "      <td>0</td>\n",
              "      <td>0</td>\n",
              "      <td>1</td>\n",
              "      <td>1</td>\n",
              "      <td>0</td>\n",
              "      <td>1</td>\n",
              "      <td>0</td>\n",
              "      <td>0</td>\n",
              "      <td>0</td>\n",
              "      <td>1</td>\n",
              "    </tr>\n",
              "    <tr>\n",
              "      <th>63</th>\n",
              "      <td>4945</td>\n",
              "      <td>0.0</td>\n",
              "      <td>128.0</td>\n",
              "      <td>360.0</td>\n",
              "      <td>0.0</td>\n",
              "      <td>4.852030</td>\n",
              "      <td>0</td>\n",
              "      <td>1</td>\n",
              "      <td>0</td>\n",
              "      <td>1</td>\n",
              "      <td>0</td>\n",
              "      <td>0</td>\n",
              "      <td>1</td>\n",
              "      <td>0</td>\n",
              "      <td>1</td>\n",
              "      <td>0</td>\n",
              "      <td>1</td>\n",
              "      <td>0</td>\n",
              "      <td>1</td>\n",
              "      <td>0</td>\n",
              "      <td>0</td>\n",
              "    </tr>\n",
              "    <tr>\n",
              "      <th>441</th>\n",
              "      <td>7901</td>\n",
              "      <td>1833.0</td>\n",
              "      <td>180.0</td>\n",
              "      <td>360.0</td>\n",
              "      <td>1.0</td>\n",
              "      <td>5.192957</td>\n",
              "      <td>0</td>\n",
              "      <td>1</td>\n",
              "      <td>0</td>\n",
              "      <td>1</td>\n",
              "      <td>0</td>\n",
              "      <td>1</td>\n",
              "      <td>0</td>\n",
              "      <td>0</td>\n",
              "      <td>1</td>\n",
              "      <td>0</td>\n",
              "      <td>1</td>\n",
              "      <td>0</td>\n",
              "      <td>1</td>\n",
              "      <td>0</td>\n",
              "      <td>0</td>\n",
              "    </tr>\n",
              "    <tr>\n",
              "      <th>359</th>\n",
              "      <td>5167</td>\n",
              "      <td>3167.0</td>\n",
              "      <td>200.0</td>\n",
              "      <td>360.0</td>\n",
              "      <td>1.0</td>\n",
              "      <td>5.298317</td>\n",
              "      <td>0</td>\n",
              "      <td>1</td>\n",
              "      <td>0</td>\n",
              "      <td>1</td>\n",
              "      <td>1</td>\n",
              "      <td>0</td>\n",
              "      <td>0</td>\n",
              "      <td>0</td>\n",
              "      <td>1</td>\n",
              "      <td>0</td>\n",
              "      <td>1</td>\n",
              "      <td>0</td>\n",
              "      <td>0</td>\n",
              "      <td>1</td>\n",
              "      <td>0</td>\n",
              "    </tr>\n",
              "    <tr>\n",
              "      <th>367</th>\n",
              "      <td>5124</td>\n",
              "      <td>0.0</td>\n",
              "      <td>124.0</td>\n",
              "      <td>360.0</td>\n",
              "      <td>0.0</td>\n",
              "      <td>4.820282</td>\n",
              "      <td>0</td>\n",
              "      <td>1</td>\n",
              "      <td>1</td>\n",
              "      <td>0</td>\n",
              "      <td>0</td>\n",
              "      <td>1</td>\n",
              "      <td>0</td>\n",
              "      <td>0</td>\n",
              "      <td>1</td>\n",
              "      <td>0</td>\n",
              "      <td>1</td>\n",
              "      <td>0</td>\n",
              "      <td>1</td>\n",
              "      <td>0</td>\n",
              "      <td>0</td>\n",
              "    </tr>\n",
              "    <tr>\n",
              "      <th>...</th>\n",
              "      <td>...</td>\n",
              "      <td>...</td>\n",
              "      <td>...</td>\n",
              "      <td>...</td>\n",
              "      <td>...</td>\n",
              "      <td>...</td>\n",
              "      <td>...</td>\n",
              "      <td>...</td>\n",
              "      <td>...</td>\n",
              "      <td>...</td>\n",
              "      <td>...</td>\n",
              "      <td>...</td>\n",
              "      <td>...</td>\n",
              "      <td>...</td>\n",
              "      <td>...</td>\n",
              "      <td>...</td>\n",
              "      <td>...</td>\n",
              "      <td>...</td>\n",
              "      <td>...</td>\n",
              "      <td>...</td>\n",
              "      <td>...</td>\n",
              "    </tr>\n",
              "    <tr>\n",
              "      <th>440</th>\n",
              "      <td>3660</td>\n",
              "      <td>5064.0</td>\n",
              "      <td>187.0</td>\n",
              "      <td>360.0</td>\n",
              "      <td>1.0</td>\n",
              "      <td>5.231109</td>\n",
              "      <td>0</td>\n",
              "      <td>1</td>\n",
              "      <td>1</td>\n",
              "      <td>0</td>\n",
              "      <td>0</td>\n",
              "      <td>1</td>\n",
              "      <td>0</td>\n",
              "      <td>0</td>\n",
              "      <td>1</td>\n",
              "      <td>0</td>\n",
              "      <td>1</td>\n",
              "      <td>0</td>\n",
              "      <td>0</td>\n",
              "      <td>1</td>\n",
              "      <td>0</td>\n",
              "    </tr>\n",
              "    <tr>\n",
              "      <th>299</th>\n",
              "      <td>2014</td>\n",
              "      <td>2925.0</td>\n",
              "      <td>113.0</td>\n",
              "      <td>360.0</td>\n",
              "      <td>1.0</td>\n",
              "      <td>4.727388</td>\n",
              "      <td>0</td>\n",
              "      <td>1</td>\n",
              "      <td>0</td>\n",
              "      <td>1</td>\n",
              "      <td>0</td>\n",
              "      <td>0</td>\n",
              "      <td>1</td>\n",
              "      <td>0</td>\n",
              "      <td>1</td>\n",
              "      <td>0</td>\n",
              "      <td>1</td>\n",
              "      <td>0</td>\n",
              "      <td>0</td>\n",
              "      <td>0</td>\n",
              "      <td>1</td>\n",
              "    </tr>\n",
              "    <tr>\n",
              "      <th>193</th>\n",
              "      <td>3858</td>\n",
              "      <td>0.0</td>\n",
              "      <td>76.0</td>\n",
              "      <td>360.0</td>\n",
              "      <td>1.0</td>\n",
              "      <td>4.330733</td>\n",
              "      <td>0</td>\n",
              "      <td>1</td>\n",
              "      <td>1</td>\n",
              "      <td>0</td>\n",
              "      <td>0</td>\n",
              "      <td>1</td>\n",
              "      <td>0</td>\n",
              "      <td>0</td>\n",
              "      <td>1</td>\n",
              "      <td>0</td>\n",
              "      <td>1</td>\n",
              "      <td>0</td>\n",
              "      <td>0</td>\n",
              "      <td>1</td>\n",
              "      <td>0</td>\n",
              "    </tr>\n",
              "    <tr>\n",
              "      <th>598</th>\n",
              "      <td>9963</td>\n",
              "      <td>0.0</td>\n",
              "      <td>180.0</td>\n",
              "      <td>360.0</td>\n",
              "      <td>1.0</td>\n",
              "      <td>5.192957</td>\n",
              "      <td>0</td>\n",
              "      <td>1</td>\n",
              "      <td>0</td>\n",
              "      <td>1</td>\n",
              "      <td>0</td>\n",
              "      <td>1</td>\n",
              "      <td>0</td>\n",
              "      <td>0</td>\n",
              "      <td>1</td>\n",
              "      <td>0</td>\n",
              "      <td>0</td>\n",
              "      <td>1</td>\n",
              "      <td>1</td>\n",
              "      <td>0</td>\n",
              "      <td>0</td>\n",
              "    </tr>\n",
              "    <tr>\n",
              "      <th>540</th>\n",
              "      <td>4608</td>\n",
              "      <td>2845.0</td>\n",
              "      <td>140.0</td>\n",
              "      <td>180.0</td>\n",
              "      <td>1.0</td>\n",
              "      <td>4.941642</td>\n",
              "      <td>1</td>\n",
              "      <td>0</td>\n",
              "      <td>0</td>\n",
              "      <td>1</td>\n",
              "      <td>0</td>\n",
              "      <td>0</td>\n",
              "      <td>1</td>\n",
              "      <td>0</td>\n",
              "      <td>1</td>\n",
              "      <td>0</td>\n",
              "      <td>1</td>\n",
              "      <td>0</td>\n",
              "      <td>0</td>\n",
              "      <td>1</td>\n",
              "      <td>0</td>\n",
              "    </tr>\n",
              "  </tbody>\n",
              "</table>\n",
              "<p>429 rows × 21 columns</p>\n",
              "</div>"
            ],
            "text/plain": [
              "     ApplicantIncome  ...  Property_Area_Urban\n",
              "612             7583  ...                    1\n",
              "63              4945  ...                    0\n",
              "441             7901  ...                    0\n",
              "359             5167  ...                    0\n",
              "367             5124  ...                    0\n",
              "..               ...  ...                  ...\n",
              "440             3660  ...                    0\n",
              "299             2014  ...                    1\n",
              "193             3858  ...                    0\n",
              "598             9963  ...                    0\n",
              "540             4608  ...                    0\n",
              "\n",
              "[429 rows x 21 columns]"
            ]
          },
          "metadata": {
            "tags": []
          },
          "execution_count": 57
        }
      ]
    },
    {
      "cell_type": "code",
      "metadata": {
        "colab": {
          "base_uri": "https://localhost:8080/"
        },
        "id": "NtpAkdrc90Ez",
        "outputId": "29d44b5e-eb9e-4f95-a01f-721c9652d80c"
      },
      "source": [
        "from sklearn.linear_model import LogisticRegression\n",
        "from sklearn.metrics import accuracy_score\n",
        "\n",
        "\n",
        "model = LogisticRegression()\n",
        "model.fit(x_train,y_train)"
      ],
      "execution_count": null,
      "outputs": [
        {
          "output_type": "execute_result",
          "data": {
            "text/plain": [
              "LogisticRegression(C=1.0, class_weight=None, dual=False, fit_intercept=True,\n",
              "                   intercept_scaling=1, l1_ratio=None, max_iter=100,\n",
              "                   multi_class='auto', n_jobs=None, penalty='l2',\n",
              "                   random_state=None, solver='lbfgs', tol=0.0001, verbose=0,\n",
              "                   warm_start=False)"
            ]
          },
          "metadata": {
            "tags": []
          },
          "execution_count": 58
        }
      ]
    },
    {
      "cell_type": "code",
      "metadata": {
        "id": "rhUSdkeL-Iqa"
      },
      "source": [
        "pred_cv = model.predict(x_cv)"
      ],
      "execution_count": null,
      "outputs": []
    },
    {
      "cell_type": "code",
      "metadata": {
        "colab": {
          "base_uri": "https://localhost:8080/"
        },
        "id": "JbhmW589-gNE",
        "outputId": "c69c37fa-fed5-4b5d-8e4f-9f5d0ce086cc"
      },
      "source": [
        "pred_cv"
      ],
      "execution_count": null,
      "outputs": [
        {
          "output_type": "execute_result",
          "data": {
            "text/plain": [
              "array([1, 1, 1, 1, 1, 1, 1, 1, 1, 1, 0, 1, 1, 1, 1, 1, 1, 1, 1, 1, 0, 1,\n",
              "       1, 1, 1, 1, 1, 1, 1, 1, 1, 1, 1, 1, 1, 1, 1, 1, 1, 1, 1, 1, 0, 1,\n",
              "       0, 1, 1, 1, 1, 1, 1, 1, 1, 1, 0, 1, 1, 1, 0, 1, 1, 0, 1, 1, 1, 1,\n",
              "       1, 1, 1, 1, 1, 1, 1, 1, 1, 1, 1, 1, 1, 1, 1, 1, 0, 1, 1, 1, 1, 1,\n",
              "       1, 1, 1, 1, 1, 1, 1, 1, 0, 1, 1, 1, 0, 1, 1, 1, 1, 1, 1, 0, 1, 1,\n",
              "       1, 1, 1, 1, 1, 1, 1, 1, 1, 1, 1, 1, 1, 1, 1, 1, 1, 1, 0, 0, 1, 1,\n",
              "       0, 1, 1, 0, 1, 1, 1, 1, 1, 1, 1, 1, 0, 0, 1, 1, 1, 1, 1, 1, 1, 1,\n",
              "       1, 1, 1, 1, 1, 0, 1, 1, 1, 1, 1, 1, 1, 1, 0, 1, 1, 1, 1, 1, 1, 1,\n",
              "       1, 1, 1, 1, 1, 1, 1, 1, 1])"
            ]
          },
          "metadata": {
            "tags": []
          },
          "execution_count": 60
        }
      ]
    },
    {
      "cell_type": "code",
      "metadata": {
        "colab": {
          "base_uri": "https://localhost:8080/"
        },
        "id": "SLhbu8Oo-hhG",
        "outputId": "1d8cc32b-8f39-4bf5-978a-cbf9dae67017"
      },
      "source": [
        "accuracy_score(y_cv,pred_cv)"
      ],
      "execution_count": null,
      "outputs": [
        {
          "output_type": "execute_result",
          "data": {
            "text/plain": [
              "0.7837837837837838"
            ]
          },
          "metadata": {
            "tags": []
          },
          "execution_count": 61
        }
      ]
    },
    {
      "cell_type": "markdown",
      "metadata": {
        "id": "tDYIUXlC-qo7"
      },
      "source": [
        "means model has 80% accuracy"
      ]
    },
    {
      "cell_type": "code",
      "metadata": {
        "id": "hkdC-vgJ-o_z"
      },
      "source": [
        "pred_test = model.predict(test)"
      ],
      "execution_count": null,
      "outputs": []
    },
    {
      "cell_type": "code",
      "metadata": {
        "id": "_aDHJEa6-4VX"
      },
      "source": [
        "submission =  pd.read_csv('sample_submission.csv')\n"
      ],
      "execution_count": null,
      "outputs": []
    },
    {
      "cell_type": "code",
      "metadata": {
        "colab": {
          "base_uri": "https://localhost:8080/"
        },
        "id": "SC_UCjh4F3iY",
        "outputId": "e5a7c416-6096-449a-b86c-516bbdceb1fe"
      },
      "source": [
        "submission.shape"
      ],
      "execution_count": null,
      "outputs": [
        {
          "output_type": "execute_result",
          "data": {
            "text/plain": [
              "(367, 2)"
            ]
          },
          "metadata": {
            "tags": []
          },
          "execution_count": 64
        }
      ]
    },
    {
      "cell_type": "code",
      "metadata": {
        "colab": {
          "base_uri": "https://localhost:8080/"
        },
        "id": "ljSFCDk5F43I",
        "outputId": "2232b0c3-7c69-4212-c6ab-163147089a62"
      },
      "source": [
        "pred_test.shape"
      ],
      "execution_count": null,
      "outputs": [
        {
          "output_type": "execute_result",
          "data": {
            "text/plain": [
              "(367,)"
            ]
          },
          "metadata": {
            "tags": []
          },
          "execution_count": 65
        }
      ]
    },
    {
      "cell_type": "code",
      "metadata": {
        "id": "gGJYZ9qMGDBg"
      },
      "source": [
        "submission['Loan_Status'] = pred_test\n",
        "submission['Loan_ID'] = test_original['Loan_ID']"
      ],
      "execution_count": null,
      "outputs": []
    },
    {
      "cell_type": "code",
      "metadata": {
        "colab": {
          "base_uri": "https://localhost:8080/",
          "height": 419
        },
        "id": "VBS6UgNxGecZ",
        "outputId": "11efdea9-777d-4513-adee-bd9186c9920e"
      },
      "source": [
        "submission"
      ],
      "execution_count": null,
      "outputs": [
        {
          "output_type": "execute_result",
          "data": {
            "text/html": [
              "<div>\n",
              "<style scoped>\n",
              "    .dataframe tbody tr th:only-of-type {\n",
              "        vertical-align: middle;\n",
              "    }\n",
              "\n",
              "    .dataframe tbody tr th {\n",
              "        vertical-align: top;\n",
              "    }\n",
              "\n",
              "    .dataframe thead th {\n",
              "        text-align: right;\n",
              "    }\n",
              "</style>\n",
              "<table border=\"1\" class=\"dataframe\">\n",
              "  <thead>\n",
              "    <tr style=\"text-align: right;\">\n",
              "      <th></th>\n",
              "      <th>Loan_ID</th>\n",
              "      <th>Loan_Status</th>\n",
              "    </tr>\n",
              "  </thead>\n",
              "  <tbody>\n",
              "    <tr>\n",
              "      <th>0</th>\n",
              "      <td>LP001015</td>\n",
              "      <td>1</td>\n",
              "    </tr>\n",
              "    <tr>\n",
              "      <th>1</th>\n",
              "      <td>LP001022</td>\n",
              "      <td>1</td>\n",
              "    </tr>\n",
              "    <tr>\n",
              "      <th>2</th>\n",
              "      <td>LP001031</td>\n",
              "      <td>1</td>\n",
              "    </tr>\n",
              "    <tr>\n",
              "      <th>3</th>\n",
              "      <td>LP001035</td>\n",
              "      <td>1</td>\n",
              "    </tr>\n",
              "    <tr>\n",
              "      <th>4</th>\n",
              "      <td>LP001051</td>\n",
              "      <td>1</td>\n",
              "    </tr>\n",
              "    <tr>\n",
              "      <th>...</th>\n",
              "      <td>...</td>\n",
              "      <td>...</td>\n",
              "    </tr>\n",
              "    <tr>\n",
              "      <th>362</th>\n",
              "      <td>LP002971</td>\n",
              "      <td>1</td>\n",
              "    </tr>\n",
              "    <tr>\n",
              "      <th>363</th>\n",
              "      <td>LP002975</td>\n",
              "      <td>1</td>\n",
              "    </tr>\n",
              "    <tr>\n",
              "      <th>364</th>\n",
              "      <td>LP002980</td>\n",
              "      <td>1</td>\n",
              "    </tr>\n",
              "    <tr>\n",
              "      <th>365</th>\n",
              "      <td>LP002986</td>\n",
              "      <td>1</td>\n",
              "    </tr>\n",
              "    <tr>\n",
              "      <th>366</th>\n",
              "      <td>LP002989</td>\n",
              "      <td>1</td>\n",
              "    </tr>\n",
              "  </tbody>\n",
              "</table>\n",
              "<p>367 rows × 2 columns</p>\n",
              "</div>"
            ],
            "text/plain": [
              "      Loan_ID  Loan_Status\n",
              "0    LP001015            1\n",
              "1    LP001022            1\n",
              "2    LP001031            1\n",
              "3    LP001035            1\n",
              "4    LP001051            1\n",
              "..        ...          ...\n",
              "362  LP002971            1\n",
              "363  LP002975            1\n",
              "364  LP002980            1\n",
              "365  LP002986            1\n",
              "366  LP002989            1\n",
              "\n",
              "[367 rows x 2 columns]"
            ]
          },
          "metadata": {
            "tags": []
          },
          "execution_count": 67
        }
      ]
    },
    {
      "cell_type": "code",
      "metadata": {
        "id": "UnllsUoCGdtB"
      },
      "source": [
        "submission['Loan_Status'].replace(0,'N',inplace=True)\n",
        "submission['Loan_Status'].replace(1,'Y',inplace=True)"
      ],
      "execution_count": null,
      "outputs": []
    },
    {
      "cell_type": "code",
      "metadata": {
        "id": "lHYD7Q9OGwcS"
      },
      "source": [
        "pd.DataFrame(submission, columns=['Loan_ID','Loan_Status']).to_csv('logistic.csv')"
      ],
      "execution_count": null,
      "outputs": []
    },
    {
      "cell_type": "code",
      "metadata": {
        "colab": {
          "base_uri": "https://localhost:8080/"
        },
        "id": "rGJH_4WDdgRk",
        "outputId": "c91c1453-0352-486a-de34-b4a2c60c5941"
      },
      "source": [
        "from sklearn.model_selection import StratifiedKFold\n",
        "\n",
        "i = 0\n",
        "kf = StratifiedKFold(n_splits=5,random_state=1,shuffle=True)\n",
        "for train_index,test_index in kf.split(x,y):\n",
        "  print('\\n{} of kfold {}'.format(i,kf.n_splits))\n",
        "  xtr,xvl = x.iloc[train_index],x.iloc[test_index]\n",
        "  ytr,yvl = y.iloc[train_index],y.iloc[test_index]\n",
        "  model = LogisticRegression(random_state=1)\n",
        "  model.fit(xtr,ytr)\n",
        "  pred_test = model.predict(xvl)\n",
        "  score = accuracy_score(yvl,pred_test)\n",
        "  print('accuracy_score',score)\n",
        "  i+=1\n",
        "  pred_test = model.predict(test)\n",
        "  pred=model.predict_proba(xvl)[:,1]\n"
      ],
      "execution_count": null,
      "outputs": [
        {
          "output_type": "stream",
          "text": [
            "\n",
            "0 of kfold 5\n",
            "accuracy_score 0.8048780487804879\n",
            "\n",
            "1 of kfold 5\n",
            "accuracy_score 0.8373983739837398\n",
            "\n",
            "2 of kfold 5\n",
            "accuracy_score 0.7804878048780488\n",
            "\n",
            "3 of kfold 5\n",
            "accuracy_score 0.7886178861788617\n",
            "\n",
            "4 of kfold 5\n",
            "accuracy_score 0.7950819672131147\n"
          ],
          "name": "stdout"
        }
      ]
    },
    {
      "cell_type": "code",
      "metadata": {
        "colab": {
          "base_uri": "https://localhost:8080/"
        },
        "id": "1dbmDPz245Qf",
        "outputId": "79b27b25-657b-4752-d99e-c17695039b55"
      },
      "source": [
        "train.dtypes"
      ],
      "execution_count": null,
      "outputs": [
        {
          "output_type": "execute_result",
          "data": {
            "text/plain": [
              "ApplicantIncome              int64\n",
              "CoapplicantIncome          float64\n",
              "LoanAmount                 float64\n",
              "Loan_Amount_Term           float64\n",
              "Credit_History             float64\n",
              "Loan_Status                  int64\n",
              "LoanAmount_log             float64\n",
              "Gender_Female                uint8\n",
              "Gender_Male                  uint8\n",
              "Married_No                   uint8\n",
              "Married_Yes                  uint8\n",
              "Dependents_3                 uint8\n",
              "Dependents_0                 uint8\n",
              "Dependents_1                 uint8\n",
              "Dependents_2                 uint8\n",
              "Education_Graduate           uint8\n",
              "Education_Not Graduate       uint8\n",
              "Self_Employed_No             uint8\n",
              "Self_Employed_Yes            uint8\n",
              "Property_Area_Rural          uint8\n",
              "Property_Area_Semiurban      uint8\n",
              "Property_Area_Urban          uint8\n",
              "dtype: object"
            ]
          },
          "metadata": {
            "tags": []
          },
          "execution_count": 73
        }
      ]
    },
    {
      "cell_type": "code",
      "metadata": {
        "id": "NzXVRQ0-HDJ5"
      },
      "source": [
        "#trying new features which are not already present in the data set\n",
        "\n",
        "train['total_income'] = train['ApplicantIncome'] + train['CoapplicantIncome']\n",
        "test['total_income'] = test['ApplicantIncome'] + test['CoapplicantIncome']"
      ],
      "execution_count": null,
      "outputs": []
    },
    {
      "cell_type": "code",
      "metadata": {
        "colab": {
          "base_uri": "https://localhost:8080/",
          "height": 297
        },
        "id": "KfjEVvBK5O74",
        "outputId": "e0f9d9ee-2ca7-4355-cb71-1cb8d7b3d473"
      },
      "source": [
        "sns.distplot(train['total_income'])"
      ],
      "execution_count": null,
      "outputs": [
        {
          "output_type": "execute_result",
          "data": {
            "text/plain": [
              "<matplotlib.axes._subplots.AxesSubplot at 0x7ff636dfc350>"
            ]
          },
          "metadata": {
            "tags": []
          },
          "execution_count": 75
        },
        {
          "output_type": "display_data",
          "data": {
            "image/png": "[encoded data removed]",
            "text/plain": [
              "<Figure size 432x288 with 1 Axes>"
            ]
          },
          "metadata": {
            "tags": [],
            "needs_background": "light"
          }
        }
      ]
    },
    {
      "cell_type": "code",
      "metadata": {
        "id": "y4XSf6575Ttm"
      },
      "source": [
        "train['total_income_log'] = np.log(train['total_income'])"
      ],
      "execution_count": null,
      "outputs": []
    },
    {
      "cell_type": "code",
      "metadata": {
        "colab": {
          "base_uri": "https://localhost:8080/",
          "height": 297
        },
        "id": "Nha7Gv7A5dnQ",
        "outputId": "69cd7c88-6fd7-4729-c728-cf956dcba1f7"
      },
      "source": [
        "sns.distplot(train['total_income_log'])"
      ],
      "execution_count": null,
      "outputs": [
        {
          "output_type": "execute_result",
          "data": {
            "text/plain": [
              "<matplotlib.axes._subplots.AxesSubplot at 0x7ff636c53a10>"
            ]
          },
          "metadata": {
            "tags": []
          },
          "execution_count": 77
        },
        {
          "output_type": "display_data",
          "data": {
            "image/png": "[encoded data removed]",
            "text/plain": [
              "<Figure size 432x288 with 1 Axes>"
            ]
          },
          "metadata": {
            "tags": [],
            "needs_background": "light"
          }
        }
      ]
    },
    {
      "cell_type": "code",
      "metadata": {
        "id": "7dKBzvK35htI"
      },
      "source": [
        "test['total_income_log'] = np.log(test['total_income'])"
      ],
      "execution_count": null,
      "outputs": []
    },
    {
      "cell_type": "code",
      "metadata": {
        "id": "F2yygIIR5zJT"
      },
      "source": [
        "train['emi'] = train['LoanAmount'] / train['Loan_Amount_Term']\n",
        "test['emi'] = test['LoanAmount'] / test['Loan_Amount_Term'] "
      ],
      "execution_count": null,
      "outputs": []
    },
    {
      "cell_type": "code",
      "metadata": {
        "colab": {
          "base_uri": "https://localhost:8080/",
          "height": 296
        },
        "id": "KyWr7Bg46XYn",
        "outputId": "43f7f076-9541-4969-f431-ee702caa1ae7"
      },
      "source": [
        "sns.distplot(train['emi'])"
      ],
      "execution_count": null,
      "outputs": [
        {
          "output_type": "execute_result",
          "data": {
            "text/plain": [
              "<matplotlib.axes._subplots.AxesSubplot at 0x7ff636bfbe50>"
            ]
          },
          "metadata": {
            "tags": []
          },
          "execution_count": 80
        },
        {
          "output_type": "display_data",
          "data": {
            "image/png": "[encoded data removed]",
            "text/plain": [
              "<Figure size 432x288 with 1 Axes>"
            ]
          },
          "metadata": {
            "tags": [],
            "needs_background": "light"
          }
        }
      ]
    },
    {
      "cell_type": "code",
      "metadata": {
        "id": "BNmhL6Im6cXG"
      },
      "source": [
        "train['balanceincome'] = (train['total_income'] - train['emi']) * 1000\n",
        "test['balanceincome'] = (test['total_income'] - test['emi']) * 1000"
      ],
      "execution_count": null,
      "outputs": []
    },
    {
      "cell_type": "code",
      "metadata": {
        "colab": {
          "base_uri": "https://localhost:8080/",
          "height": 307
        },
        "id": "-z81Ne176_Ot",
        "outputId": "c4e7584a-0a0f-4057-89aa-552328d20f30"
      },
      "source": [
        "sns.distplot(train['balanceincome'])"
      ],
      "execution_count": null,
      "outputs": [
        {
          "output_type": "execute_result",
          "data": {
            "text/plain": [
              "<matplotlib.axes._subplots.AxesSubplot at 0x7ff636a9e550>"
            ]
          },
          "metadata": {
            "tags": []
          },
          "execution_count": 82
        },
        {
          "output_type": "display_data",
          "data": {
            "image/png": "[encoded data removed]",
            "text/plain": [
              "<Figure size 432x288 with 1 Axes>"
            ]
          },
          "metadata": {
            "tags": [],
            "needs_background": "light"
          }
        }
      ]
    },
    {
      "cell_type": "code",
      "metadata": {
        "id": "00NBNnKG7D0o"
      },
      "source": [
        "train = train.drop(['ApplicantIncome','CoapplicantIncome','LoanAmount','Loan_Amount_Term'],axis=1)\n",
        "test = test.drop(['ApplicantIncome','CoapplicantIncome','LoanAmount','Loan_Amount_Term'],axis=1)"
      ],
      "execution_count": null,
      "outputs": []
    },
    {
      "cell_type": "code",
      "metadata": {
        "id": "5kSGEvvs7kNz",
        "colab": {
          "base_uri": "https://localhost:8080/"
        },
        "outputId": "7fea05d8-2d0e-4e73-bb91-fa461ac95c97"
      },
      "source": [
        "train.columns"
      ],
      "execution_count": null,
      "outputs": [
        {
          "output_type": "execute_result",
          "data": {
            "text/plain": [
              "Index(['Credit_History', 'Loan_Status', 'LoanAmount_log', 'Gender_Female',\n",
              "       'Gender_Male', 'Married_No', 'Married_Yes', 'Dependents_3',\n",
              "       'Dependents_0', 'Dependents_1', 'Dependents_2', 'Education_Graduate',\n",
              "       'Education_Not Graduate', 'Self_Employed_No', 'Self_Employed_Yes',\n",
              "       'Property_Area_Rural', 'Property_Area_Semiurban', 'Property_Area_Urban',\n",
              "       'total_income', 'total_income_log', 'emi', 'balanceincome'],\n",
              "      dtype='object')"
            ]
          },
          "metadata": {
            "tags": []
          },
          "execution_count": 84
        }
      ]
    },
    {
      "cell_type": "code",
      "metadata": {
        "id": "QjkKUeIyWXzd"
      },
      "source": [
        "y = train['Loan_Status']\n",
        "x = train.drop('Loan_Status',1)"
      ],
      "execution_count": null,
      "outputs": []
    },
    {
      "cell_type": "markdown",
      "metadata": {
        "id": "SaQJgtjJjRYD"
      },
      "source": [
        "**Trying different Algorithms**"
      ]
    },
    {
      "cell_type": "code",
      "metadata": {
        "colab": {
          "base_uri": "https://localhost:8080/"
        },
        "id": "nqEqSNEBjVU6",
        "outputId": "ed4280c2-565b-44c6-8615-edc0e9443b32"
      },
      "source": [
        "#starting with Logistic Regression\n",
        "i = 1\n",
        "kf = StratifiedKFold(n_splits=5,random_state=1,shuffle=True)\n",
        "for train_index,test_index in kf.split(x,y):\n",
        "  print('\\n{} of kfold {}'.format(i,kf.n_splits))\n",
        "  xtr,xvl = x.loc[train_index],x.loc[test_index]\n",
        "  ytr,yvl = y[train_index],y[test_index]\n",
        "\n",
        "  model = LogisticRegression(random_state=1)\n",
        "  model.fit(xtr,ytr)\n",
        "  pred_test = model.predict(xvl)\n",
        "  score = accuracy_score(yvl,pred_test)\n",
        "  print('accuracy score ', score)\n",
        "  i+= 1\n",
        "  pred_test = model.predict(test)\n",
        "  pred=model.predict_proba(xvl)[:,1]"
      ],
      "execution_count": null,
      "outputs": [
        {
          "output_type": "stream",
          "text": [
            "\n",
            "1 of kfold 5\n",
            "accuracy score  0.6910569105691057\n",
            "\n",
            "2 of kfold 5\n",
            "accuracy score  0.6910569105691057\n",
            "\n",
            "3 of kfold 5\n",
            "accuracy score  0.6829268292682927\n",
            "\n",
            "4 of kfold 5\n",
            "accuracy score  0.6829268292682927\n",
            "\n",
            "5 of kfold 5\n",
            "accuracy score  0.6885245901639344\n"
          ],
          "name": "stdout"
        }
      ]
    },
    {
      "cell_type": "code",
      "metadata": {
        "id": "0d_lekAHIExd"
      },
      "source": [
        ""
      ],
      "execution_count": null,
      "outputs": []
    }
  ]
}